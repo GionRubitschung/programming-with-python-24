{
 "cells": [
  {
   "cell_type": "code",
   "execution_count": 1,
   "metadata": {},
   "outputs": [],
   "source": [
    "from math import pi"
   ]
  },
  {
   "cell_type": "markdown",
   "metadata": {},
   "source": [
    "4. Develop a python program that contains a function that returns True if its parameter is even, False otherwise."
   ]
  },
  {
   "cell_type": "code",
   "execution_count": 2,
   "metadata": {},
   "outputs": [
    {
     "name": "stdout",
     "output_type": "stream",
     "text": [
      "True\n",
      "False\n"
     ]
    }
   ],
   "source": [
    "def even(i: int) -> bool:\n",
    "  return i % 2 == 0\n",
    "\n",
    "print(even(2))\n",
    "print(even(3))"
   ]
  },
  {
   "cell_type": "markdown",
   "metadata": {},
   "source": [
    "5. Develop a function that computes the area of a disc of a given radius."
   ]
  },
  {
   "cell_type": "code",
   "execution_count": 3,
   "metadata": {},
   "outputs": [
    {
     "name": "stdout",
     "output_type": "stream",
     "text": [
      "28.274333882308138\n",
      "50.26548245743669\n"
     ]
    }
   ],
   "source": [
    "def area_circle(radius: float) -> float:\n",
    "  return pi * radius * radius\n",
    "\n",
    "print(area_circle(3))\n",
    "print(area_circle(4))"
   ]
  },
  {
   "cell_type": "markdown",
   "metadata": {},
   "source": [
    "6. Develop a function that returns the greatest value of a list of positive numbers."
   ]
  },
  {
   "cell_type": "code",
   "execution_count": 4,
   "metadata": {},
   "outputs": [
    {
     "name": "stdout",
     "output_type": "stream",
     "text": [
      "5\n",
      "5\n"
     ]
    }
   ],
   "source": [
    "def greatest(arr: list[int]) -> int:\n",
    "  greatest = arr[0]\n",
    "  for el in arr:\n",
    "    if el > greatest:\n",
    "      greatest = el\n",
    "  return greatest\n",
    "\n",
    "print(greatest([1, 2, 3, 4, 5]))\n",
    "print(greatest([5, 4, 3, 2, 1]))"
   ]
  },
  {
   "cell_type": "markdown",
   "metadata": {},
   "source": [
    "7. Develop a function that reverses a list of elements (try to develop an iterative and a recursive solution)."
   ]
  },
  {
   "cell_type": "code",
   "execution_count": 5,
   "metadata": {},
   "outputs": [
    {
     "name": "stdout",
     "output_type": "stream",
     "text": [
      "[5, 4, 3, 2, 1]\n",
      "[5, 4, 3, 2, 1]\n",
      "[5, 4, 3, 2, 1]\n"
     ]
    }
   ],
   "source": [
    "def reverse(arr: list) -> list:\n",
    "  return arr[::-1]\n",
    "\n",
    "def reverse_iterative(arr: list) -> list:\n",
    "  arr_reversed = []\n",
    "  for i in range(len(arr) - 1, -1, -1):\n",
    "    arr_reversed.append(arr[i])\n",
    "  return arr_reversed\n",
    "\n",
    "def reverse_recursive(arr: list) -> list:\n",
    "  if len(arr) == 0:\n",
    "    return []\n",
    "  return [arr[-1]] + reverse_recursive(arr[:-1])\n",
    "\n",
    "print(reverse([1, 2, 3, 4, 5]))\n",
    "print(reverse_iterative([1, 2, 3, 4, 5]))\n",
    "print(reverse_recursive([1, 2, 3, 4, 5]))"
   ]
  },
  {
   "cell_type": "markdown",
   "metadata": {},
   "source": [
    "8. Develop a function that inserts a number into an ordered list and returns an ordered list (ascending order). This function will be used in the next exercise."
   ]
  },
  {
   "cell_type": "code",
   "execution_count": 6,
   "metadata": {},
   "outputs": [
    {
     "data": {
      "text/plain": [
       "[1, 2, 3, 4, 5, 6]"
      ]
     },
     "execution_count": 6,
     "metadata": {},
     "output_type": "execute_result"
    }
   ],
   "source": [
    "def insert_into_ordered_list(arr: list, el: int) -> list:\n",
    "  for i in range(len(arr)):\n",
    "    if arr[i] > el:\n",
    "      arr.insert(i, el)\n",
    "      return arr\n",
    "  arr.append(el)\n",
    "  return arr\n",
    "\n",
    "insert_into_ordered_list([1, 2, 4, 5, 6], 3)"
   ]
  },
  {
   "cell_type": "markdown",
   "metadata": {},
   "source": [
    "9. Develop a function `insertion_sort` that takes an unordered list of numbers and returns an ordered list taking advantage of the previous function.\n",
    "\n",
    "Weird ass exercise..."
   ]
  },
  {
   "cell_type": "code",
   "execution_count": 7,
   "metadata": {},
   "outputs": [
    {
     "data": {
      "text/plain": [
       "[1, 2, 3, 4, 8]"
      ]
     },
     "execution_count": 7,
     "metadata": {},
     "output_type": "execute_result"
    }
   ],
   "source": [
    "def insertion_sort(arr: list) -> list:\n",
    "    arr_sorted = []\n",
    "    for el in arr:\n",
    "        arr_sorted = insert_into_ordered_list(arr_sorted, el)\n",
    "    return arr_sorted\n",
    "\n",
    "\n",
    "insertion_sort([3, 1, 8, 2, 4])"
   ]
  },
  {
   "cell_type": "markdown",
   "metadata": {},
   "source": [
    "10. Develop an iterative function and a recursive one that both compute the sum of a List of integers without using any predefined functions."
   ]
  },
  {
   "cell_type": "code",
   "execution_count": 8,
   "metadata": {},
   "outputs": [
    {
     "name": "stdout",
     "output_type": "stream",
     "text": [
      "15\n",
      "15\n"
     ]
    }
   ],
   "source": [
    "def sum_of_iterative(arr: list[int]) -> int:\n",
    "  summation = 0\n",
    "  [summation := summation + el for el in arr]\n",
    "  return summation\n",
    "\n",
    "def sum_of_recursive(arr: list[int]) -> int:\n",
    "  if len(arr) == 0:\n",
    "    return 0\n",
    "  return arr[0] + sum_of_recursive(arr[1:])\n",
    "\n",
    "print(sum_of_iterative([1, 2, 3, 4, 5]))\n",
    "print(sum_of_recursive([1, 2, 3, 4, 5]))"
   ]
  },
  {
   "cell_type": "markdown",
   "metadata": {},
   "source": [
    "11. Develop a function that takes a list of strings and returns a list of integers where the elements are the length of the corresponding string. Do not use any predefined functions except 'len()' that returns the length of a string.\n",
    "\n",
    "Example: `lst_len([\"abc\", \"de\", \"fghi\"])` returns `[3,2,4]`"
   ]
  },
  {
   "cell_type": "code",
   "execution_count": 9,
   "metadata": {},
   "outputs": [
    {
     "data": {
      "text/plain": [
       "[3, 2, 4]"
      ]
     },
     "execution_count": 9,
     "metadata": {},
     "output_type": "execute_result"
    }
   ],
   "source": [
    "def lst_len(arr: list[str]) -> list[int]:\n",
    "  return [len(el) for el in arr]\n",
    "\n",
    "lst_len([\"abc\", \"de\", \"fghi\"])"
   ]
  },
  {
   "cell_type": "markdown",
   "metadata": {},
   "source": [
    "12. Develop a function that flats a list of lists without using any predefined functions.\n",
    "\n",
    "Example:\n",
    "`flat([[3,8],[8,9,9],[1,2]])` returns [3,8,8,9,9,1,2]\n",
    "`flat([[\"ab\",\"c\"],[\"d\",\"ef\"]])` returns [\"ab\",\"c\",\"d\",\"ef\"]\n"
   ]
  },
  {
   "cell_type": "code",
   "execution_count": 10,
   "metadata": {},
   "outputs": [
    {
     "name": "stdout",
     "output_type": "stream",
     "text": [
      "[3, 8, 8, 9, 9, 1, 2]\n",
      "['ab', 'c', 'd', 'ef']\n"
     ]
    }
   ],
   "source": [
    "def flat(arr: list[list]) -> list:\n",
    "  return [el for sub_arr in arr for el in sub_arr]\n",
    "\n",
    "print(flat([[3,8],[8,9,9],[1,2]]))\n",
    "print(flat([[\"ab\",\"c\"],[\"d\",\"ef\"]]))"
   ]
  },
  {
   "cell_type": "markdown",
   "metadata": {},
   "source": [
    "The three next exercises will be used in a later one.\n",
    "\n",
    "13. Develop a function that takes an integer <= 7 and returns a list of booleans which corresponds to the translation into binary of the parameter.\n",
    "\n",
    "Example: 5 = 101 --> [True, False, True].\n",
    "\n",
    "Develop a version using a dictionary.\n",
    "\n",
    "Python 3.10 introduces the \"match\" keyword.  Use \"match\" to develop a equivalent version."
   ]
  },
  {
   "cell_type": "code",
   "execution_count": 11,
   "metadata": {},
   "outputs": [
    {
     "name": "stdout",
     "output_type": "stream",
     "text": [
      "[True, False, True]\n",
      "{0: [False], 1: [True], 2: [True, False], 3: [True, True], 4: [True, False, False], 5: [True, False, True], 6: [True, True, False], 7: [True, True, True]}\n",
      "[True, False, True]\n",
      "[True, False, True]\n"
     ]
    }
   ],
   "source": [
    "def binary_translation(n: int) -> list[bool]:\n",
    "  return [bool(int(x)) for x in bin(n)[2:]] # bin(n) string with the binary representation of n, slice it to remove the \"0b\" prefix\n",
    "\n",
    "bin_translation = {key: binary_translation(key) for key in range(0, 8)}\n",
    "\n",
    "def binary_translation_match(n: int) -> list[bool]:\n",
    "  match n:\n",
    "    case 0:\n",
    "      return [False]\n",
    "    case 1:\n",
    "      return [True]\n",
    "    case 2:\n",
    "      return [False, True]\n",
    "    case 3:\n",
    "      return [True, True]\n",
    "    case 4:\n",
    "      return [False, False, True]\n",
    "    case 5:\n",
    "      return [True, False, True]\n",
    "    case 6:\n",
    "      return [False, True, True]\n",
    "    case 7:\n",
    "      return [True, True, True]\n",
    "    case _:\n",
    "      return []\n",
    "\n",
    "print(binary_translation(5))\n",
    "print(bin_translation)\n",
    "print(bin_translation[5])\n",
    "print(binary_translation_match(5))"
   ]
  },
  {
   "cell_type": "markdown",
   "metadata": {},
   "source": [
    "14. Develop a function that takes a list of integers (each integer <= 7) and returns a list of lists of booleans using the previous function."
   ]
  },
  {
   "cell_type": "code",
   "execution_count": 12,
   "metadata": {},
   "outputs": [
    {
     "data": {
      "text/plain": [
       "[[True],\n",
       " [True, False],\n",
       " [True, True],\n",
       " [True, False, False],\n",
       " [True, False, True],\n",
       " [True, True, False],\n",
       " [True, True, True]]"
      ]
     },
     "execution_count": 12,
     "metadata": {},
     "output_type": "execute_result"
    }
   ],
   "source": [
    "def binary_list_translation(arr: list[int]) -> list[list[bool]]:\n",
    "  return [binary_translation(el) for el in arr]\n",
    "\n",
    "binary_list_translation([1, 2, 3, 4, 5, 6, 7])"
   ]
  },
  {
   "cell_type": "markdown",
   "metadata": {},
   "source": [
    "15. Develop a function that transforms a list of lists into another list of lists as follows:\n",
    "\n",
    "[[x1,x2,x3],[y1,y2,y3], ...] --> [[x1,y1,...],[x2,y2,...],[x3,y3,...]]\n",
    "The function assumes that all the lists in the input list have the same number of elements."
   ]
  },
  {
   "cell_type": "code",
   "execution_count": 13,
   "metadata": {},
   "outputs": [
    {
     "data": {
      "text/plain": [
       "[['x1', 'y1'], ['x2', 'y2'], ['x3', 'y3']]"
      ]
     },
     "execution_count": 13,
     "metadata": {},
     "output_type": "execute_result"
    }
   ],
   "source": [
    "def transform(arr: list[list]) -> list[list]:\n",
    "  return [[arr[j][i] for j in range(len(arr))] for i in range(len(arr[0]))]\n",
    "  \n",
    "\n",
    "transform([[\"x1\", \"x2\", \"x3\"], [\"y1\", \"y2\", \"y3\"]])"
   ]
  },
  {
   "cell_type": "markdown",
   "metadata": {},
   "source": [
    "16. Develop a function that takes a dictionary as parameter and returns another dictionary without both the elements (key, value) that correspond to the maximum and minimum values of the dictionary parameter."
   ]
  },
  {
   "cell_type": "code",
   "execution_count": 14,
   "metadata": {},
   "outputs": [
    {
     "data": {
      "text/plain": [
       "{'b': 2, 'c': 3, 'd': 4}"
      ]
     },
     "execution_count": 14,
     "metadata": {},
     "output_type": "execute_result"
    }
   ],
   "source": [
    "def remove_max_min(d: dict) -> dict:\n",
    "  max_key, *_ = d.keys()\n",
    "  min_key, *_ = d.keys()\n",
    "  for key in d.keys():\n",
    "    if d[key] > d[max_key]:\n",
    "      max_key = key\n",
    "    if d[key] < d[min_key]:\n",
    "      min_key = key\n",
    "  d.pop(max_key)\n",
    "  d.pop(min_key)\n",
    "  return d\n",
    "\n",
    "remove_max_min({\"a\": 1, \"b\": 2, \"c\": 3, \"d\": 4, \"e\": 5})"
   ]
  }
 ],
 "metadata": {
  "kernelspec": {
   "display_name": ".venv",
   "language": "python",
   "name": "python3"
  },
  "language_info": {
   "codemirror_mode": {
    "name": "ipython",
    "version": 3
   },
   "file_extension": ".py",
   "mimetype": "text/x-python",
   "name": "python",
   "nbconvert_exporter": "python",
   "pygments_lexer": "ipython3",
   "version": "3.12.1"
  }
 },
 "nbformat": 4,
 "nbformat_minor": 2
}
